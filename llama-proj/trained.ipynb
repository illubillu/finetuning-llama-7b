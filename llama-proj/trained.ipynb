{
 "cells": [
  {
   "cell_type": "code",
   "execution_count": 1,
   "metadata": {},
   "outputs": [],
   "source": [
    "import json, transformers, torch\n",
    "from torch import bfloat16, cuda\n",
    "from datasets import load_dataset, DatasetDict\n",
    "from sklearn.model_selection import train_test_split\n",
    "from peft import LoraConfig, get_peft_model\n"
   ]
  },
  {
   "cell_type": "code",
   "execution_count": 8,
   "metadata": {},
   "outputs": [
    {
     "ename": "ImportError",
     "evalue": "cannot import name 'recombine_sharded_files' from 'transformers' (/home/ikhaja2/.local/lib/python3.10/site-packages/transformers/__init__.py)",
     "output_type": "error",
     "traceback": [
      "\u001b[0;31m---------------------------------------------------------------------------\u001b[0m",
      "\u001b[0;31mImportError\u001b[0m                               Traceback (most recent call last)",
      "\u001b[1;32m/home/ikhaja2/llama_proj/trained.ipynb Cell 2\u001b[0m line \u001b[0;36m2\n\u001b[1;32m      <a href='vscode-notebook-cell://ssh-remote%2Bdolphin.evl.uic.edu/home/ikhaja2/llama_proj/trained.ipynb#W2sdnNjb2RlLXJlbW90ZQ%3D%3D?line=0'>1</a>\u001b[0m \u001b[39m#recombine sharded model\u001b[39;00m\n\u001b[0;32m----> <a href='vscode-notebook-cell://ssh-remote%2Bdolphin.evl.uic.edu/home/ikhaja2/llama_proj/trained.ipynb#W2sdnNjb2RlLXJlbW90ZQ%3D%3D?line=1'>2</a>\u001b[0m \u001b[39mfrom\u001b[39;00m \u001b[39mtransformers\u001b[39;00m \u001b[39mimport\u001b[39;00m recombine_sharded_files\n\u001b[1;32m      <a href='vscode-notebook-cell://ssh-remote%2Bdolphin.evl.uic.edu/home/ikhaja2/llama_proj/trained.ipynb#W2sdnNjb2RlLXJlbW90ZQ%3D%3D?line=2'>3</a>\u001b[0m \u001b[39mimport\u001b[39;00m \u001b[39mos\u001b[39;00m\n\u001b[1;32m      <a href='vscode-notebook-cell://ssh-remote%2Bdolphin.evl.uic.edu/home/ikhaja2/llama_proj/trained.ipynb#W2sdnNjb2RlLXJlbW90ZQ%3D%3D?line=4'>5</a>\u001b[0m \u001b[39m# Path to the directory containing the sharded files\u001b[39;00m\n",
      "\u001b[0;31mImportError\u001b[0m: cannot import name 'recombine_sharded_files' from 'transformers' (/home/ikhaja2/.local/lib/python3.10/site-packages/transformers/__init__.py)"
     ]
    }
   ],
   "source": []
  },
  {
   "cell_type": "code",
   "execution_count": 2,
   "metadata": {},
   "outputs": [
    {
     "ename": "AttributeError",
     "evalue": "'str' object has no attribute '__dict__'",
     "output_type": "error",
     "traceback": [
      "\u001b[0;31m---------------------------------------------------------------------------\u001b[0m",
      "\u001b[0;31mAttributeError\u001b[0m                            Traceback (most recent call last)",
      "\u001b[1;32m/home/ikhaja2/llama_proj/trained.ipynb Cell 3\u001b[0m line \u001b[0;36m9\n\u001b[1;32m      <a href='vscode-notebook-cell://ssh-remote%2Bdolphin.evl.uic.edu/home/ikhaja2/llama_proj/trained.ipynb#W2sdnNjb2RlLXJlbW90ZQ%3D%3D?line=4'>5</a>\u001b[0m device \u001b[39m=\u001b[39m \u001b[39mf\u001b[39m\u001b[39m'\u001b[39m\u001b[39mcuda:\u001b[39m\u001b[39m{\u001b[39;00mcuda\u001b[39m.\u001b[39mcurrent_device()\u001b[39m}\u001b[39;00m\u001b[39m'\u001b[39m \u001b[39mif\u001b[39;00m cuda\u001b[39m.\u001b[39mis_available() \u001b[39melse\u001b[39;00m \u001b[39m'\u001b[39m\u001b[39mcpu\u001b[39m\u001b[39m'\u001b[39m\n\u001b[1;32m      <a href='vscode-notebook-cell://ssh-remote%2Bdolphin.evl.uic.edu/home/ikhaja2/llama_proj/trained.ipynb#W2sdnNjb2RlLXJlbW90ZQ%3D%3D?line=7'>8</a>\u001b[0m lora_config \u001b[39m=\u001b[39m LoraConfig\u001b[39m.\u001b[39mfrom_pretrained(\u001b[39m'\u001b[39m\u001b[39m/home/ikhaja2/llama_proj/results_lora/checkpoint-100\u001b[39m\u001b[39m'\u001b[39m)\n\u001b[0;32m----> <a href='vscode-notebook-cell://ssh-remote%2Bdolphin.evl.uic.edu/home/ikhaja2/llama_proj/trained.ipynb#W2sdnNjb2RlLXJlbW90ZQ%3D%3D?line=8'>9</a>\u001b[0m model \u001b[39m=\u001b[39m get_peft_model(model_path, lora_config)\n",
      "File \u001b[0;32m~/.local/lib/python3.10/site-packages/peft/mapping.py:106\u001b[0m, in \u001b[0;36mget_peft_model\u001b[0;34m(model, peft_config, adapter_name)\u001b[0m\n\u001b[1;32m    103\u001b[0m \u001b[39mif\u001b[39;00m \u001b[39mhasattr\u001b[39m(model_config, \u001b[39m\"\u001b[39m\u001b[39mto_dict\u001b[39m\u001b[39m\"\u001b[39m):\n\u001b[1;32m    104\u001b[0m     model_config \u001b[39m=\u001b[39m model_config\u001b[39m.\u001b[39mto_dict()\n\u001b[0;32m--> 106\u001b[0m peft_config\u001b[39m.\u001b[39mbase_model_name_or_path \u001b[39m=\u001b[39m model\u001b[39m.\u001b[39;49m\u001b[39m__dict__\u001b[39;49m\u001b[39m.\u001b[39mget(\u001b[39m\"\u001b[39m\u001b[39mname_or_path\u001b[39m\u001b[39m\"\u001b[39m, \u001b[39mNone\u001b[39;00m)\n\u001b[1;32m    108\u001b[0m \u001b[39mif\u001b[39;00m peft_config\u001b[39m.\u001b[39mtask_type \u001b[39mnot\u001b[39;00m \u001b[39min\u001b[39;00m MODEL_TYPE_TO_PEFT_MODEL_MAPPING\u001b[39m.\u001b[39mkeys() \u001b[39mand\u001b[39;00m \u001b[39mnot\u001b[39;00m peft_config\u001b[39m.\u001b[39mis_prompt_learning:\n\u001b[1;32m    109\u001b[0m     \u001b[39mreturn\u001b[39;00m PeftModel(model, peft_config, adapter_name\u001b[39m=\u001b[39madapter_name)\n",
      "\u001b[0;31mAttributeError\u001b[0m: 'str' object has no attribute '__dict__'"
     ]
    }
   ],
   "source": [
    "\"\"\"instatiating the model and quantizing config\"\"\"\n",
    "\n",
    "model_path = '/home/ikhaja2/llama_proj/results_lora/checkpoint-100'\n",
    "\n",
    "device = f'cuda:{cuda.current_device()}' if cuda.is_available() else 'cpu'\n",
    "\n",
    "\n",
    "\n",
    "\n",
    "\n",
    "\n",
    "lora_config = LoraConfig.from_pretrained('/home/ikhaja2/llama_proj/results_lora/checkpoint-100')\n",
    "model = get_peft_model(model_path, lora_config)\n"
   ]
  },
  {
   "cell_type": "code",
   "execution_count": 24,
   "metadata": {},
   "outputs": [
    {
     "name": "stdout",
     "output_type": "stream",
     "text": [
      "What four main types of actions involve databases? Briefly discuss each. 1.  Database retrieval.  The database is used to define a query, execute a query, execute a transaction, execute an operation, execute an algorithm, execute an algorithm, execute an algorithm, execute an algorithm, execute an algorithm, execute an algorithm, execute an algorithm, execute an algorithm, execute an algorithm, execute an algorithm, execute an algorithm, execute an algorithm, execute an algorithm, execute an algorithm, execute an algorithm, execute an algorithm, execute an algorithm, execute an algorithm, execute an algorithm, execute an algorithm, execute an algorithm, execute an algorithm, execute an algorithm, execute an algorithm, execute an algorithm, execute an algorithm, execute an algorithm, execute an algorithm, execute an algorithm, execute an algorithm, execute an algorithm, execute an algorithm, execute an algorithm, execute an algorithm, execute an algorithm, execute an algorithm, execute an algorithm, execute an algorithm, execute an algorithm, execute an algorithm, execute an algorithm, execute an algorithm, execute an algorithm, execute an algorithm, execute an algorithm, execute an algorithm, execute an algorithm, execute an algorithm, execute an algorithm, execute an algorithm, execute an algorithm, execute an algorithm, execute an algorithm, execute an algorithm, execute an algorithm, execute an algorithm, execute an algorithm, execute an algorithm, execute an algorithm, execute an algorithm, execute an algorithm, execute an algorithm, execute an algorithm, execute an algorithm, execute an algorithm, execute an algorithm, execute an algorithm, execute an algorithm, execute an algorithm, execute an algorithm, execute an algorithm, execute an algorithm, execute an algorithm, execute an algorithm, execute an algorithm, execute an algorithm, execute an algorithm, execute an algorithm, execute an algorithm, execute an algorithm, execute an algorithm, execute an algorithm, execute an algorithm, execute an algorithm, execute an algorithm, execute an algorithm, execute an algorithm, execute an algorithm, execute an algorithm, execute an algorithm, execute an algorithm, execute an algorithm, execute an algorithm, execute an algorithm, execute an algorithm, execute an algorithm, execute an algorithm, execute an algorithm, execute an algorithm, execute an algorithm, execute an algorithm, execute an algorithm, execute an algorithm, execute an algorithm, execute an algorithm, execute an algorithm, execute an algorithm, execute an algorithm, execute an algorithm, execute an algorithm, execute an algorithm, execute an algorithm, execute an algorithm, execute an algorithm, execute an algorithm, execute an algorithm, execute an algorithm, execute an algorithm, execute an algorithm, execute an algorithm, execute an algorithm, execute an algorithm, execute an algorithm, execute an algorithm, execute an algorithm, execute an algorithm, execute an algorithm, execute an algorithm, execute an algorithm, execute an algorithm, execute an algorithm, execute an algorithm, execute an algorithm, execute an algorithm, execute an algorithm, execute an algorithm, execute an algorithm, execute an algorithm, execute an algorithm, execute an algorithm, execute an algorithm, execute an algorithm, execute an algorithm, execute an algorithm, execute an algorithm, execute an algorithm, execute an algorithm, execute an algorithm, execute an algorithm, execute an algorithm, execute an algorithm, execute an algorithm, execute an algorithm, execute an algorithm, execute an algorithm, execute an algorithm, execute an algorithm, execute an algorithm, execute an algorithm, execute an algorithm, execute an algorithm, execute an algorithm, execute an algorithm, execute an algorithm, execute an algorithm, execute an algorithm, execute an algorithm, execute an algorithm, execute an algorithm, execute an algorithm, execute an algorithm, execute an algorithm, execute an algorithm, execute an algorithm, execute an algorithm, execute an algorithm, execute an algorithm, execute an algorithm, execute an algorithm, execute an algorithm, execute an algorithm, execute an algorithm, execute an algorithm, execute an algorithm, execute an algorithm, execute an algorithm, execute an algorithm, execute an algorithm, execute an algorithm, execute an algorithm, execute an algorithm, execute an algorithm, execute an algorithm, execute an algorithm, execute an algorithm, execute an algorithm, execute an algorithm, execute an algorithm, execute an algorithm, execute an algorithm, execute an algorithm, execute an algorithm, execute an algorithm, execute an algorithm, execute an algorithm, execute an algorithm, execute an algorithm, execute an algorithm, execute an algorithm, execute an algorithm, execute an algorithm, execute an algorithm, execute an algorithm, execute an algorithm, execute an algorithm, execute an algorithm, execute an algorithm, execute an algorithm, execute an algorithm, execute an algorithm, execute an algorithm, execute an algorithm, execute an algorithm, execute an algorithm, execute an algorithm, execute an algorithm, execute an algorithm, execute an algorithm, execute an algorithm, execute an algorithm, execute an algorithm, execute an algorithm, execute an algorithm, execute an algorithm, execute an algorithm, execute an algorithm, execute an algorithm, execute an algorithm, execute an algorithm, execute an algorithm, execute an algorithm, execute an algorithm, execute an algorithm, execute an algorithm, execute an algorithm, execute an algorithm, execute an algorithm, execute an algorithm, execute an algorithm, execute an algorithm, execute an algorithm, execute an algorithm, execute an algorithm, execute an algorithm, execute an algorithm, execute an algorithm, execute an algorithm, execute an algorithm, execute an algorithm, execute an algorithm, execute an algorithm, execute an algorithm, execute an algorithm, execute an algorithm, execute an algorithm, execute an algorithm, execute an algorithm, execute an algorithm, execute an algorithm, execute an algorithm, execute an algorithm, execute an algorithm, execute an algorithm, execute an algorithm, execute an algorithm, execute an algorithm, execute an algorithm, execute an algorithm, execute an algorithm, execute an algorithm, execute an algorithm, execute an algorithm, execute an algorithm, execute an algorithm, execute an algorithm, execute an algorithm, execute an algorithm, execute an algorithm, execute an algorithm, execute an algorithm, execute an algorithm, execute an algorithm, execute an algorithm, execute an algorithm, execute an algorithm, execute an algorithm, execute an algorithm, execute an algorithm, execute an algorithm, execute an algorithm, execute an algorithm, execute an algorithm, execute an algorithm, execute an algorithm, execute an algorithm, execute an algorithm, execute an algorithm, execute an algorithm, execute an algorithm, execute an algorithm, execute an algorithm, execute an algorithm, execute an algorithm, execute an algorithm, execute an algorithm, execute an algorithm, execute an algorithm, execute an algorithm, execute an algorithm, execute an algorithm, execute an algorithm, execute an algorithm, execute an algorithm, execute an algorithm, execute an algorithm, execute an algorithm, execute an algorithm, execute an algorithm, execute an algorithm, execute an algorithm, execute an algorithm, execute an algorithm, execute an algorithm, execute an algorithm, execute an algorithm, execute an algorithm, execute an algorithm, execute an algorithm, execute an algorithm, execute an algorithm, execute an algorithm, execute an algorithm, execute an algorithm, execute an algorithm, execute an algorithm, execute an algorithm, execute an algorithm, execute an algorithm, execute an algorithm, execute an algorithm, execute an algorithm, execute an algorithm, execute an algorithm, execute an algorithm, execute an algorithm, execute an algorithm, execute an algorithm, execute an algorithm, execute an algorithm, execute an algorithm, execute an algorithm, execute an algorithm, execute an algorithm, execute an algorithm, execute an algorithm, execute an algorithm, execute an algorithm, execute an algorithm, execute an algorithm, execute an algorithm, execute an algorithm, execute an algorithm, execute an algorithm, execute an algorithm, execute an algorithm, execute an algorithm, execute an algorithm, execute an algorithm, execute an algorithm, execute an algorithm, execute an algorithm, execute an algorithm, execute an algorithm, execute an algorithm, execute an algorithm, execute an algorithm, execute an algorithm, execute an algorithm, execute an algorithm, execute an algorithm, execute an algorithm, execute an algorithm, execute an algorithm, execute an algorithm, execute an algorithm, execute an algorithm, execute an algorithm, execute an algorithm, execute an algorithm, execute an algorithm, execute an algorithm, execute an algorithm, execute an algorithm, execute an algorithm, execute an algorithm, execute an algorithm, execute an algorithm, execute an algorithm, execute an algorithm, execute an algorithm, execute an algorithm, execute an algorithm, execute an algorithm, execute an algorithm, execute an algorithm, execute an algorithm, execute an algorithm, execute an algorithm, execute an algorithm, execute an algorithm, execute an algorithm, execute an algorithm, execute an algorithm, execute an algorithm, execute an algorithm, execute an algorithm, execute an algorithm, execute an algorithm, execute an algorithm, execute an algorithm, execute an algorithm, execute an algorithm, execute an algorithm, execute an algorithm, execute an algorithm, execute an algorithm, execute an algorithm, execute an algorithm, execute an algorithm, execute an algorithm, execute an algorithm, execute an algorithm, execute an algorithm, execute an algorithm, execute an algorithm, execute an algorithm, execute an algorithm, execute an algorithm, execute an algorithm, execute an algorithm, execute an algorithm, execute an algorithm, execute an algorithm, execute an algorithm, execute an algorithm, execute an algorithm, execute an algorithm, execute an algorithm, execute an algorithm, execute an algorithm, execute an algorithm, execute an algorithm, execute an algorithm, execute an algorithm, execute an algorithm, execute an algorithm, execute an algorithm, execute an algorithm, execute an algorithm, execute an algorithm, execute an algorithm, execute an algorithm, execute an algorithm, execute an algorithm, execute an algorithm, execute an algorithm, execute an algorithm, execute an algorithm, execute an algorithm, execute an algorithm, execute an algorithm, execute an algorithm, execute an algorithm, execute an algorithm, execute an algorithm, execute an algorithm, execute an algorithm, execute an algorithm, execute an algorithm, execute an algorithm, execute an algorithm, execute an algorithm, execute an algorithm, execute an algorithm, execute an algorithm, execute an algorithm, execute an algorithm, execute an algorithm, execute an algorithm, execute an algorithm, execute an algorithm, execute an algorithm, execute an algorithm, execute an algorithm, execute an\n"
     ]
    }
   ],
   "source": [
    "model.eval()\n",
    "\n",
    "text = \"What four main types of actions involve databases? Briefly discuss each.\"\n",
    "\n",
    "\n",
    "inputs = tokenizer(text, return_tensors=\"pt\").to(device)\n",
    "outputs = model.generate(**inputs, max_new_tokens=2048)\n",
    "print(tokenizer.decode(outputs[0], skip_special_tokens=True))"
   ]
  }
 ],
 "metadata": {
  "kernelspec": {
   "display_name": "Python 3",
   "language": "python",
   "name": "python3"
  },
  "language_info": {
   "codemirror_mode": {
    "name": "ipython",
    "version": 3
   },
   "file_extension": ".py",
   "mimetype": "text/x-python",
   "name": "python",
   "nbconvert_exporter": "python",
   "pygments_lexer": "ipython3",
   "version": "3.10.12"
  }
 },
 "nbformat": 4,
 "nbformat_minor": 2
}
